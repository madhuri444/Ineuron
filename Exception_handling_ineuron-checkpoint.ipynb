{
 "cells": [
  {
   "cell_type": "markdown",
   "metadata": {},
   "source": [
    "# Write a function to compute 5/0 and use try/except to catch the exceptions."
   ]
  },
  {
   "cell_type": "code",
   "execution_count": 4,
   "metadata": {},
   "outputs": [
    {
     "name": "stdout",
     "output_type": "stream",
     "text": [
      "Division is not possible\n",
      "division by zero\n"
     ]
    }
   ],
   "source": [
    "try: \n",
    "    i = 5/0\n",
    "except Exception as e:\n",
    "    print('Division is not possible')\n",
    "    print(e)\n"
   ]
  },
  {
   "cell_type": "markdown",
   "metadata": {},
   "source": [
    "# Implement a Python program to generate all sentences where subject is in [\"Americans\", \"Indians\"] and verb is in [\"Play\", \"watch\"] and the object is in[\"Baseball\",\"cricket\"].\n",
    "\n",
    "# subjects=[\"Americans \",\"Indians\"]\n",
    "# verbs=[\"play\",\"watch\"]\n",
    "# objects=[\"Baseball\",\"Cricket\"]"
   ]
  },
  {
   "cell_type": "code",
   "execution_count": 43,
   "metadata": {},
   "outputs": [
    {
     "name": "stdout",
     "output_type": "stream",
     "text": [
      "[['Americans ', 'play', 'Baseball'], ['Americans ', 'play', 'Cricket'], ['Americans ', 'watch', 'Baseball'], ['Americans ', 'watch', 'Cricket'], ['Indians', 'play', 'Baseball'], ['Indians', 'play', 'Cricket'], ['Indians', 'watch', 'Baseball'], ['Indians', 'watch', 'Cricket']]\n",
      "['Americans ', 'play', 'Baseball']\n",
      "['Americans ', 'play', 'Cricket']\n",
      "['Americans ', 'watch', 'Baseball']\n",
      "['Americans ', 'watch', 'Cricket']\n",
      "['Indians', 'play', 'Baseball']\n",
      "['Indians', 'play', 'Cricket']\n",
      "['Indians', 'watch', 'Baseball']\n",
      "['Indians', 'watch', 'Cricket']\n"
     ]
    }
   ],
   "source": [
    "subjects=[\"Americans \",\"Indians\"]\n",
    "verbs=[\"play\",\"watch\"]\n",
    "objects=[\"Baseball\",\"Cricket\"]\n",
    "\n",
    "ma =  [[i,j,k ]for i in subjects for j in verbs for k in objects]  \n",
    "print(ma)\n",
    "for i in ma:\n",
    "    print(str(i))"
   ]
  },
  {
   "cell_type": "code",
   "execution_count": null,
   "metadata": {},
   "outputs": [],
   "source": []
  }
 ],
 "metadata": {
  "kernelspec": {
   "display_name": "Python 3",
   "language": "python",
   "name": "python3"
  },
  "language_info": {
   "codemirror_mode": {
    "name": "ipython",
    "version": 3
   },
   "file_extension": ".py",
   "mimetype": "text/x-python",
   "name": "python",
   "nbconvert_exporter": "python",
   "pygments_lexer": "ipython3",
   "version": "3.7.6"
  }
 },
 "nbformat": 4,
 "nbformat_minor": 4
}
